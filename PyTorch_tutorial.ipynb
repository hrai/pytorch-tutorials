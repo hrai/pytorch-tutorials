{
  "nbformat": 4,
  "nbformat_minor": 0,
  "metadata": {
    "colab": {
      "name": "PyTorch tutorial",
      "provenance": [],
      "collapsed_sections": [],
      "include_colab_link": true
    },
    "kernelspec": {
      "display_name": "Python 3",
      "name": "python3"
    }
  },
  "cells": [
    {
      "cell_type": "markdown",
      "metadata": {
        "id": "view-in-github",
        "colab_type": "text"
      },
      "source": [
        "<a href=\"https://colab.research.google.com/github/hrai/pytorch-tutorials/blob/master/PyTorch_tutorial.ipynb\" target=\"_parent\"><img src=\"https://colab.research.google.com/assets/colab-badge.svg\" alt=\"Open In Colab\"/></a>"
      ]
    },
    {
      "cell_type": "markdown",
      "metadata": {
        "id": "xi9zSUhtNl-j",
        "colab_type": "text"
      },
      "source": [
        "## PyTorch Basics\n"
      ]
    },
    {
      "cell_type": "code",
      "metadata": {
        "id": "KPfaajzmEdTP",
        "colab_type": "code",
        "colab": {}
      },
      "source": [
        "from __future__ import print_function\n",
        "import torch\n"
      ],
      "execution_count": 0,
      "outputs": []
    },
    {
      "cell_type": "code",
      "metadata": {
        "id": "qL7AJYfkEj6s",
        "colab_type": "code",
        "outputId": "c55bd897-f4cd-49fa-ecd8-c54e7cd8b083",
        "colab": {
          "base_uri": "https://localhost:8080/",
          "height": 104
        }
      },
      "source": [
        "x=torch.empty(5,3)\n",
        "print(x)"
      ],
      "execution_count": 3,
      "outputs": [
        {
          "output_type": "stream",
          "text": [
            "tensor([[9.0570e-37, 0.0000e+00, 0.0000e+00],\n",
            "        [0.0000e+00, 0.0000e+00, 0.0000e+00],\n",
            "        [0.0000e+00, 0.0000e+00, 2.8026e-45],\n",
            "        [0.0000e+00, 1.1210e-44, 0.0000e+00],\n",
            "        [1.4013e-45, 0.0000e+00, 1.0501e-25]])\n"
          ],
          "name": "stdout"
        }
      ]
    },
    {
      "cell_type": "code",
      "metadata": {
        "id": "PKC382VtEtD8",
        "colab_type": "code",
        "outputId": "52a8eb9c-80e9-4b0b-8ac0-c55ede538627",
        "colab": {
          "base_uri": "https://localhost:8080/",
          "height": 104
        }
      },
      "source": [
        "x=torch.rand(5,3)\n",
        "print(x)"
      ],
      "execution_count": 4,
      "outputs": [
        {
          "output_type": "stream",
          "text": [
            "tensor([[0.3658, 0.6194, 0.2627],\n",
            "        [0.7649, 0.5937, 0.7930],\n",
            "        [0.8612, 0.0777, 0.3440],\n",
            "        [0.1769, 0.7277, 0.1262],\n",
            "        [0.9522, 0.2455, 0.0201]])\n"
          ],
          "name": "stdout"
        }
      ]
    },
    {
      "cell_type": "code",
      "metadata": {
        "id": "6AF99p7xEzEP",
        "colab_type": "code",
        "outputId": "ab01ff84-5b44-42ec-f4ea-3f27c7c19e02",
        "colab": {
          "base_uri": "https://localhost:8080/",
          "height": 104
        }
      },
      "source": [
        "x=torch.zeros(5,3, dtype=torch.long)\n",
        "x"
      ],
      "execution_count": 5,
      "outputs": [
        {
          "output_type": "execute_result",
          "data": {
            "text/plain": [
              "tensor([[0, 0, 0],\n",
              "        [0, 0, 0],\n",
              "        [0, 0, 0],\n",
              "        [0, 0, 0],\n",
              "        [0, 0, 0]])"
            ]
          },
          "metadata": {
            "tags": []
          },
          "execution_count": 5
        }
      ]
    },
    {
      "cell_type": "code",
      "metadata": {
        "id": "XuSvM0BsFUu6",
        "colab_type": "code",
        "outputId": "91768060-a195-4524-e1b8-b81ecc15ac25",
        "colab": {
          "base_uri": "https://localhost:8080/",
          "height": 34
        }
      },
      "source": [
        "x = torch.tensor([5.5, 3])\n",
        "print(x)"
      ],
      "execution_count": 6,
      "outputs": [
        {
          "output_type": "stream",
          "text": [
            "tensor([5.5000, 3.0000])\n"
          ],
          "name": "stdout"
        }
      ]
    },
    {
      "cell_type": "code",
      "metadata": {
        "id": "3FW6viMJFh0q",
        "colab_type": "code",
        "outputId": "cb9da5fa-263f-45ff-b35d-f45b8afc49e8",
        "colab": {
          "base_uri": "https://localhost:8080/",
          "height": 191
        }
      },
      "source": [
        "x=x.new_ones(5,3,dtype=torch.double)\n",
        "print(x)\n",
        "\n",
        "x=torch.randn_like(x, dtype=torch.float)\n",
        "print(x)"
      ],
      "execution_count": 7,
      "outputs": [
        {
          "output_type": "stream",
          "text": [
            "tensor([[1., 1., 1.],\n",
            "        [1., 1., 1.],\n",
            "        [1., 1., 1.],\n",
            "        [1., 1., 1.],\n",
            "        [1., 1., 1.]], dtype=torch.float64)\n",
            "tensor([[ 1.5648, -0.2098,  0.8689],\n",
            "        [-2.2293, -0.8930, -0.2142],\n",
            "        [-0.6160,  1.1673,  0.4789],\n",
            "        [-1.2000, -0.1970, -0.5001],\n",
            "        [ 1.3269, -1.2191, -0.7736]])\n"
          ],
          "name": "stdout"
        }
      ]
    },
    {
      "cell_type": "code",
      "metadata": {
        "id": "G5xgAV4HF6ov",
        "colab_type": "code",
        "outputId": "c1cfeb30-171e-400c-d8b1-bc9659acebed",
        "colab": {
          "base_uri": "https://localhost:8080/",
          "height": 34
        }
      },
      "source": [
        "print(x.size())"
      ],
      "execution_count": 8,
      "outputs": [
        {
          "output_type": "stream",
          "text": [
            "torch.Size([5, 3])\n"
          ],
          "name": "stdout"
        }
      ]
    },
    {
      "cell_type": "code",
      "metadata": {
        "id": "JZvrDP4XGDD8",
        "colab_type": "code",
        "outputId": "283dca62-8df7-44bf-9da8-1085ea3c74ed",
        "colab": {
          "base_uri": "https://localhost:8080/",
          "height": 104
        }
      },
      "source": [
        "y=torch.rand(5,3)\n",
        "print(x+y)"
      ],
      "execution_count": 9,
      "outputs": [
        {
          "output_type": "stream",
          "text": [
            "tensor([[ 2.3395,  0.3711,  1.1676],\n",
            "        [-1.5820, -0.4773, -0.1391],\n",
            "        [ 0.1995,  1.7604,  0.5619],\n",
            "        [-0.5377,  0.6220, -0.2411],\n",
            "        [ 1.7990, -0.6232,  0.1633]])\n"
          ],
          "name": "stdout"
        }
      ]
    },
    {
      "cell_type": "code",
      "metadata": {
        "id": "1fKO4n_fGPGA",
        "colab_type": "code",
        "outputId": "0e60ed0c-1ca7-4221-bfc9-4f7c21f50fc4",
        "colab": {
          "base_uri": "https://localhost:8080/",
          "height": 104
        }
      },
      "source": [
        "print(torch.add(x,y))"
      ],
      "execution_count": 10,
      "outputs": [
        {
          "output_type": "stream",
          "text": [
            "tensor([[ 2.3395,  0.3711,  1.1676],\n",
            "        [-1.5820, -0.4773, -0.1391],\n",
            "        [ 0.1995,  1.7604,  0.5619],\n",
            "        [-0.5377,  0.6220, -0.2411],\n",
            "        [ 1.7990, -0.6232,  0.1633]])\n"
          ],
          "name": "stdout"
        }
      ]
    },
    {
      "cell_type": "code",
      "metadata": {
        "id": "2KgKMwj0GVcB",
        "colab_type": "code",
        "outputId": "74ff0909-0a3d-4c00-e561-aa2075fb44c1",
        "colab": {
          "base_uri": "https://localhost:8080/",
          "height": 104
        }
      },
      "source": [
        "result=torch.empty(5,3)\n",
        "torch.add(x,y,out=result)\n",
        "print(result)"
      ],
      "execution_count": 11,
      "outputs": [
        {
          "output_type": "stream",
          "text": [
            "tensor([[ 2.3395,  0.3711,  1.1676],\n",
            "        [-1.5820, -0.4773, -0.1391],\n",
            "        [ 0.1995,  1.7604,  0.5619],\n",
            "        [-0.5377,  0.6220, -0.2411],\n",
            "        [ 1.7990, -0.6232,  0.1633]])\n"
          ],
          "name": "stdout"
        }
      ]
    },
    {
      "cell_type": "code",
      "metadata": {
        "id": "lfPCmFDxGocO",
        "colab_type": "code",
        "outputId": "e9eabaee-f72d-4a60-d3e7-d6d3b576f30a",
        "colab": {
          "base_uri": "https://localhost:8080/",
          "height": 104
        }
      },
      "source": [
        "y.add_(x)\n",
        "print(y)"
      ],
      "execution_count": 12,
      "outputs": [
        {
          "output_type": "stream",
          "text": [
            "tensor([[ 2.3395,  0.3711,  1.1676],\n",
            "        [-1.5820, -0.4773, -0.1391],\n",
            "        [ 0.1995,  1.7604,  0.5619],\n",
            "        [-0.5377,  0.6220, -0.2411],\n",
            "        [ 1.7990, -0.6232,  0.1633]])\n"
          ],
          "name": "stdout"
        }
      ]
    },
    {
      "cell_type": "code",
      "metadata": {
        "id": "VHBTqUv4ICab",
        "colab_type": "code",
        "colab": {
          "base_uri": "https://localhost:8080/",
          "height": 139
        },
        "outputId": "019ee6ea-eabf-4d2c-c907-4d007547ad95"
      },
      "source": [
        "print(x)\n",
        "print(x[:,2])\n",
        "\n",
        "print(x[2,:])"
      ],
      "execution_count": 27,
      "outputs": [
        {
          "output_type": "stream",
          "text": [
            "tensor([[ 1.5648, -0.2098,  0.8689],\n",
            "        [-2.2293, -0.8930, -0.2142],\n",
            "        [-0.6160,  1.1673,  0.4789],\n",
            "        [-1.2000, -0.1970, -0.5001],\n",
            "        [ 1.3269, -1.2191, -0.7736]])\n",
            "tensor([ 0.8689, -0.2142,  0.4789, -0.5001, -0.7736])\n",
            "tensor([-0.6160,  1.1673,  0.4789])\n"
          ],
          "name": "stdout"
        }
      ]
    },
    {
      "cell_type": "code",
      "metadata": {
        "id": "OdTa0G-3IGI1",
        "colab_type": "code",
        "colab": {
          "base_uri": "https://localhost:8080/",
          "height": 34
        },
        "outputId": "dd3ca99b-c562-4048-f229-446bd90dc631"
      },
      "source": [
        "x=torch.randn(4,4)\n",
        "y=x.view(16)\n",
        "z=x.view(-1,8)\n",
        "print(x.size(),y.size(),z.size())"
      ],
      "execution_count": 28,
      "outputs": [
        {
          "output_type": "stream",
          "text": [
            "torch.Size([4, 4]) torch.Size([16]) torch.Size([2, 8])\n"
          ],
          "name": "stdout"
        }
      ]
    },
    {
      "cell_type": "code",
      "metadata": {
        "id": "CMSYsuNxNDwK",
        "colab_type": "code",
        "colab": {
          "base_uri": "https://localhost:8080/",
          "height": 141
        },
        "outputId": "8fecb5e7-3049-4f06-ab5b-0c902370679f"
      },
      "source": [
        "print(x)\n",
        "print(y)"
      ],
      "execution_count": 31,
      "outputs": [
        {
          "output_type": "stream",
          "text": [
            "tensor([[-0.9339,  0.8805,  1.8538,  0.7031],\n",
            "        [ 1.3926, -0.7867, -0.5836,  2.7452],\n",
            "        [ 1.7984, -1.4433,  0.6452,  1.9542],\n",
            "        [-2.1321,  2.5977, -2.4721,  0.2587]])\n",
            "tensor([-0.9339,  0.8805,  1.8538,  0.7031,  1.3926, -0.7867, -0.5836,  2.7452,\n",
            "         1.7984, -1.4433,  0.6452,  1.9542, -2.1321,  2.5977, -2.4721,  0.2587])\n"
          ],
          "name": "stdout"
        }
      ]
    },
    {
      "cell_type": "code",
      "metadata": {
        "id": "MXlF7DsFNVMz",
        "colab_type": "code",
        "colab": {
          "base_uri": "https://localhost:8080/",
          "height": 52
        },
        "outputId": "f470b554-919e-40b8-c755-5ff90fbd6902"
      },
      "source": [
        "x=torch.randn(1)\n",
        "print(x)\n",
        "print(x.item())"
      ],
      "execution_count": 32,
      "outputs": [
        {
          "output_type": "stream",
          "text": [
            "tensor([0.8179])\n",
            "0.8179216980934143\n"
          ],
          "name": "stdout"
        }
      ]
    },
    {
      "cell_type": "markdown",
      "metadata": {
        "id": "3x8mTnT4NvCh",
        "colab_type": "text"
      },
      "source": [
        "## NumPy bridge"
      ]
    }
  ]
}