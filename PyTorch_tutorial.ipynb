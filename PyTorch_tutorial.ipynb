{
  "nbformat": 4,
  "nbformat_minor": 0,
  "metadata": {
    "colab": {
      "name": "PyTorch tutorial",
      "provenance": [],
      "collapsed_sections": [],
      "include_colab_link": true
    },
    "kernelspec": {
      "display_name": "Python 3",
      "name": "python3"
    }
  },
  "cells": [
    {
      "cell_type": "markdown",
      "metadata": {
        "id": "view-in-github",
        "colab_type": "text"
      },
      "source": [
        "<a href=\"https://colab.research.google.com/github/hrai/pytorch-tutorials/blob/master/PyTorch_tutorial.ipynb\" target=\"_parent\"><img src=\"https://colab.research.google.com/assets/colab-badge.svg\" alt=\"Open In Colab\"/></a>"
      ]
    },
    {
      "cell_type": "code",
      "metadata": {
        "id": "KPfaajzmEdTP",
        "colab_type": "code",
        "colab": {}
      },
      "source": [
        "from __future__ import print_function\n",
        "import torch\n"
      ],
      "execution_count": 0,
      "outputs": []
    },
    {
      "cell_type": "code",
      "metadata": {
        "id": "qL7AJYfkEj6s",
        "colab_type": "code",
        "outputId": "80c5befa-a429-47f5-9f8c-d3d174c19939",
        "colab": {
          "base_uri": "https://localhost:8080/",
          "height": 104
        }
      },
      "source": [
        "x=torch.empty(5,3)\n",
        "print(x)"
      ],
      "execution_count": 0,
      "outputs": [
        {
          "output_type": "stream",
          "text": [
            "tensor([[1.4282e-36, 0.0000e+00, 0.0000e+00],\n",
            "        [0.0000e+00, 0.0000e+00, 0.0000e+00],\n",
            "        [0.0000e+00, 0.0000e+00, 2.8026e-45],\n",
            "        [0.0000e+00, 1.1210e-44, 0.0000e+00],\n",
            "        [1.4013e-45, 0.0000e+00, 0.0000e+00]])\n"
          ],
          "name": "stdout"
        }
      ]
    },
    {
      "cell_type": "code",
      "metadata": {
        "id": "PKC382VtEtD8",
        "colab_type": "code",
        "outputId": "bb2a4e67-b4dc-453c-97f3-face759ae47e",
        "colab": {
          "base_uri": "https://localhost:8080/",
          "height": 104
        }
      },
      "source": [
        "x=torch.rand(5,3)\n",
        "print(x)"
      ],
      "execution_count": 0,
      "outputs": [
        {
          "output_type": "stream",
          "text": [
            "tensor([[0.5565, 0.5548, 0.5167],\n",
            "        [0.3074, 0.7684, 0.6417],\n",
            "        [0.2157, 0.6598, 0.4639],\n",
            "        [0.6564, 0.5068, 0.5358],\n",
            "        [0.9535, 0.8486, 0.4241]])\n"
          ],
          "name": "stdout"
        }
      ]
    },
    {
      "cell_type": "code",
      "metadata": {
        "id": "6AF99p7xEzEP",
        "colab_type": "code",
        "outputId": "0a9311d0-b0da-473d-e99d-a561137ce49f",
        "colab": {
          "base_uri": "https://localhost:8080/",
          "height": 104
        }
      },
      "source": [
        "x=torch.zeros(5,3, dtype=torch.long)\n",
        "x"
      ],
      "execution_count": 0,
      "outputs": [
        {
          "output_type": "execute_result",
          "data": {
            "text/plain": [
              "tensor([[0, 0, 0],\n",
              "        [0, 0, 0],\n",
              "        [0, 0, 0],\n",
              "        [0, 0, 0],\n",
              "        [0, 0, 0]])"
            ]
          },
          "metadata": {
            "tags": []
          },
          "execution_count": 10
        }
      ]
    },
    {
      "cell_type": "code",
      "metadata": {
        "id": "XuSvM0BsFUu6",
        "colab_type": "code",
        "outputId": "788bccf3-8357-4d37-b3ce-00dd0c0784b1",
        "colab": {
          "base_uri": "https://localhost:8080/",
          "height": 34
        }
      },
      "source": [
        "x = torch.tensor([5.5, 3])\n",
        "print(x)"
      ],
      "execution_count": 0,
      "outputs": [
        {
          "output_type": "stream",
          "text": [
            "tensor([5.5000, 3.0000])\n"
          ],
          "name": "stdout"
        }
      ]
    },
    {
      "cell_type": "code",
      "metadata": {
        "id": "3FW6viMJFh0q",
        "colab_type": "code",
        "outputId": "85bb4a80-3a37-41e8-f31c-6c23d9af6b84",
        "colab": {
          "base_uri": "https://localhost:8080/",
          "height": 191
        }
      },
      "source": [
        "x=x.new_ones(5,3,dtype=torch.double)\n",
        "print(x)\n",
        "\n",
        "x=torch.randn_like(x, dtype=torch.float)\n",
        "print(x)"
      ],
      "execution_count": 0,
      "outputs": [
        {
          "output_type": "stream",
          "text": [
            "tensor([[1., 1., 1.],\n",
            "        [1., 1., 1.],\n",
            "        [1., 1., 1.],\n",
            "        [1., 1., 1.],\n",
            "        [1., 1., 1.]], dtype=torch.float64)\n",
            "tensor([[-0.2461,  1.9758,  0.4354],\n",
            "        [-0.9924,  0.6891,  1.1185],\n",
            "        [-0.6321,  0.4243, -0.2057],\n",
            "        [ 2.0096, -0.9440, -0.3159],\n",
            "        [ 1.1081, -2.3719, -1.0901]])\n"
          ],
          "name": "stdout"
        }
      ]
    },
    {
      "cell_type": "code",
      "metadata": {
        "id": "G5xgAV4HF6ov",
        "colab_type": "code",
        "outputId": "4d6490f0-2374-48eb-8c52-253b70ac0d78",
        "colab": {
          "base_uri": "https://localhost:8080/",
          "height": 34
        }
      },
      "source": [
        "print(x.size())"
      ],
      "execution_count": 0,
      "outputs": [
        {
          "output_type": "stream",
          "text": [
            "torch.Size([5, 3])\n"
          ],
          "name": "stdout"
        }
      ]
    },
    {
      "cell_type": "code",
      "metadata": {
        "id": "JZvrDP4XGDD8",
        "colab_type": "code",
        "outputId": "80af1370-5c10-4de3-faad-2d85998c18ff",
        "colab": {
          "base_uri": "https://localhost:8080/",
          "height": 104
        }
      },
      "source": [
        "y=torch.rand(5,3)\n",
        "print(x+y)"
      ],
      "execution_count": 0,
      "outputs": [
        {
          "output_type": "stream",
          "text": [
            "tensor([[ 0.2645,  2.3954,  1.2267],\n",
            "        [-0.5257,  1.6057,  1.4925],\n",
            "        [ 0.0291,  0.6277, -0.1776],\n",
            "        [ 2.9051, -0.2707,  0.5709],\n",
            "        [ 1.3325, -2.3134, -0.7653]])\n"
          ],
          "name": "stdout"
        }
      ]
    },
    {
      "cell_type": "code",
      "metadata": {
        "id": "1fKO4n_fGPGA",
        "colab_type": "code",
        "outputId": "f51b3653-dd63-422a-f5da-462a7964d52a",
        "colab": {
          "base_uri": "https://localhost:8080/",
          "height": 104
        }
      },
      "source": [
        "print(torch.add(x,y))"
      ],
      "execution_count": 0,
      "outputs": [
        {
          "output_type": "stream",
          "text": [
            "tensor([[ 0.2645,  2.3954,  1.2267],\n",
            "        [-0.5257,  1.6057,  1.4925],\n",
            "        [ 0.0291,  0.6277, -0.1776],\n",
            "        [ 2.9051, -0.2707,  0.5709],\n",
            "        [ 1.3325, -2.3134, -0.7653]])\n"
          ],
          "name": "stdout"
        }
      ]
    },
    {
      "cell_type": "code",
      "metadata": {
        "id": "2KgKMwj0GVcB",
        "colab_type": "code",
        "outputId": "1fd7f8c7-ea8b-4284-b677-fd322ff5a3d3",
        "colab": {
          "base_uri": "https://localhost:8080/",
          "height": 104
        }
      },
      "source": [
        "result=torch.empty(5,3)\n",
        "torch.add(x,y,out=result)\n",
        "print(result)"
      ],
      "execution_count": 0,
      "outputs": [
        {
          "output_type": "stream",
          "text": [
            "tensor([[ 0.2645,  2.3954,  1.2267],\n",
            "        [-0.5257,  1.6057,  1.4925],\n",
            "        [ 0.0291,  0.6277, -0.1776],\n",
            "        [ 2.9051, -0.2707,  0.5709],\n",
            "        [ 1.3325, -2.3134, -0.7653]])\n"
          ],
          "name": "stdout"
        }
      ]
    },
    {
      "cell_type": "code",
      "metadata": {
        "id": "lfPCmFDxGocO",
        "colab_type": "code",
        "outputId": "9d1a4cbe-cdfb-45bb-f58c-37dde0113cf7",
        "colab": {
          "base_uri": "https://localhost:8080/",
          "height": 104
        }
      },
      "source": [
        "y.add_(x)\n",
        "print(y)"
      ],
      "execution_count": 0,
      "outputs": [
        {
          "output_type": "stream",
          "text": [
            "tensor([[ 0.2645,  2.3954,  1.2267],\n",
            "        [-0.5257,  1.6057,  1.4925],\n",
            "        [ 0.0291,  0.6277, -0.1776],\n",
            "        [ 2.9051, -0.2707,  0.5709],\n",
            "        [ 1.3325, -2.3134, -0.7653]])\n"
          ],
          "name": "stdout"
        }
      ]
    }
  ]
}