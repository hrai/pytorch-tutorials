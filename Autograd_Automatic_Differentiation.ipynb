{
  "nbformat": 4,
  "nbformat_minor": 0,
  "metadata": {
    "colab": {
      "name": "Autograd: Automatic Differentiation",
      "provenance": [],
      "authorship_tag": "ABX9TyOWrzRfGLQ64O7hE87XnLMY",
      "include_colab_link": true
    },
    "kernelspec": {
      "name": "python3",
      "display_name": "Python 3"
    }
  },
  "cells": [
    {
      "cell_type": "markdown",
      "metadata": {
        "id": "view-in-github",
        "colab_type": "text"
      },
      "source": [
        "<a href=\"https://colab.research.google.com/github/hrai/pytorch-tutorials/blob/master/Autograd_Automatic_Differentiation.ipynb\" target=\"_parent\"><img src=\"https://colab.research.google.com/assets/colab-badge.svg\" alt=\"Open In Colab\"/></a>"
      ]
    },
    {
      "cell_type": "markdown",
      "metadata": {
        "id": "jeGd_2z3RyVS",
        "colab_type": "text"
      },
      "source": [
        "## Tensor"
      ]
    },
    {
      "cell_type": "code",
      "metadata": {
        "id": "-0y6dg46QlxV",
        "colab_type": "code",
        "colab": {}
      },
      "source": [
        "import torch\n"
      ],
      "execution_count": 0,
      "outputs": []
    },
    {
      "cell_type": "code",
      "metadata": {
        "id": "ku96TqjWQoxa",
        "colab_type": "code",
        "colab": {
          "base_uri": "https://localhost:8080/",
          "height": 52
        },
        "outputId": "117c78de-d080-4370-e719-cd46a060a0f3"
      },
      "source": [
        "x=torch.ones(2,2, requires_grad=True)\n",
        "print(x)"
      ],
      "execution_count": 28,
      "outputs": [
        {
          "output_type": "stream",
          "text": [
            "tensor([[1., 1.],\n",
            "        [1., 1.]], requires_grad=True)\n"
          ],
          "name": "stdout"
        }
      ]
    },
    {
      "cell_type": "code",
      "metadata": {
        "id": "86BpqTHDQ01W",
        "colab_type": "code",
        "colab": {
          "base_uri": "https://localhost:8080/",
          "height": 52
        },
        "outputId": "7e7fd061-062b-4e9a-df5a-3dbd32526c22"
      },
      "source": [
        "y=x+2\n",
        "print(y)"
      ],
      "execution_count": 29,
      "outputs": [
        {
          "output_type": "stream",
          "text": [
            "tensor([[3., 3.],\n",
            "        [3., 3.]], grad_fn=<AddBackward0>)\n"
          ],
          "name": "stdout"
        }
      ]
    },
    {
      "cell_type": "code",
      "metadata": {
        "id": "N6CRe-61Q9LZ",
        "colab_type": "code",
        "colab": {
          "base_uri": "https://localhost:8080/",
          "height": 34
        },
        "outputId": "fa675387-7b00-484b-e97c-400dc083def4"
      },
      "source": [
        "print(y.grad_fn)"
      ],
      "execution_count": 30,
      "outputs": [
        {
          "output_type": "stream",
          "text": [
            "<AddBackward0 object at 0x7ff7f9c0ae10>\n"
          ],
          "name": "stdout"
        }
      ]
    },
    {
      "cell_type": "code",
      "metadata": {
        "id": "rxGkQXVGRBra",
        "colab_type": "code",
        "colab": {
          "base_uri": "https://localhost:8080/",
          "height": 72
        },
        "outputId": "61e1fe38-24b6-4648-90b4-7cd82f1b6887"
      },
      "source": [
        "z=y*y*3\n",
        "out=z.mean()\n",
        "print(z,out)"
      ],
      "execution_count": 31,
      "outputs": [
        {
          "output_type": "stream",
          "text": [
            "tensor([[27., 27.],\n",
            "        [27., 27.]], grad_fn=<MulBackward0>) tensor(27., grad_fn=<MeanBackward0>)\n"
          ],
          "name": "stdout"
        }
      ]
    },
    {
      "cell_type": "code",
      "metadata": {
        "id": "s5vZ1cctRTw3",
        "colab_type": "code",
        "colab": {
          "base_uri": "https://localhost:8080/",
          "height": 69
        },
        "outputId": "d76a7e2e-e1e7-4a3a-98b1-d1ba3f446404"
      },
      "source": [
        "a=torch.randn(2,2)\n",
        "a=((a*3)/(a-1))\n",
        "print(a.requires_grad)\n",
        "a.requires_grad_(True)\n",
        "print(a.requires_grad)\n",
        "b=(a*a).sum()\n",
        "print(b.grad_fn)"
      ],
      "execution_count": 32,
      "outputs": [
        {
          "output_type": "stream",
          "text": [
            "False\n",
            "True\n",
            "<SumBackward0 object at 0x7ff7f8b97668>\n"
          ],
          "name": "stdout"
        }
      ]
    },
    {
      "cell_type": "markdown",
      "metadata": {
        "id": "yVCZYyn8R2s4",
        "colab_type": "text"
      },
      "source": [
        "## Gradients"
      ]
    },
    {
      "cell_type": "code",
      "metadata": {
        "id": "fuHZ6TsRR1KN",
        "colab_type": "code",
        "colab": {
          "base_uri": "https://localhost:8080/",
          "height": 52
        },
        "outputId": "cce500bc-9838-414a-8b73-d3d7e18e8298"
      },
      "source": [
        "out.backward()\n",
        "print(x.grad)"
      ],
      "execution_count": 33,
      "outputs": [
        {
          "output_type": "stream",
          "text": [
            "tensor([[4.5000, 4.5000],\n",
            "        [4.5000, 4.5000]])\n"
          ],
          "name": "stdout"
        }
      ]
    },
    {
      "cell_type": "code",
      "metadata": {
        "id": "n4qGkEMaSgO6",
        "colab_type": "code",
        "colab": {
          "base_uri": "https://localhost:8080/",
          "height": 191
        },
        "outputId": "3e1bbf5f-7a92-4270-b05b-a8ea2be4e9f1"
      },
      "source": [
        "x=torch.randn(3, requires_grad=True)\n",
        "y=x*2\n",
        "while y.data.norm() < 1000:\n",
        "    print(y)\n",
        "    y=y*2\n",
        "\n",
        "print(y)"
      ],
      "execution_count": 35,
      "outputs": [
        {
          "output_type": "stream",
          "text": [
            "tensor([ 1.0219, -1.0492, -2.4217], grad_fn=<MulBackward0>)\n",
            "tensor([ 2.0438, -2.0985, -4.8434], grad_fn=<MulBackward0>)\n",
            "tensor([ 4.0876, -4.1970, -9.6869], grad_fn=<MulBackward0>)\n",
            "tensor([  8.1753,  -8.3939, -19.3738], grad_fn=<MulBackward0>)\n",
            "tensor([ 16.3505, -16.7879, -38.7475], grad_fn=<MulBackward0>)\n",
            "tensor([ 32.7011, -33.5757, -77.4951], grad_fn=<MulBackward0>)\n",
            "tensor([  65.4021,  -67.1514, -154.9902], grad_fn=<MulBackward0>)\n",
            "tensor([ 130.8043, -134.3029, -309.9803], grad_fn=<MulBackward0>)\n",
            "tensor([ 261.6085, -268.6057, -619.9606], grad_fn=<MulBackward0>)\n",
            "tensor([  523.2170,  -537.2115, -1239.9213], grad_fn=<MulBackward0>)\n"
          ],
          "name": "stdout"
        }
      ]
    },
    {
      "cell_type": "code",
      "metadata": {
        "id": "owo3NA-ZS2fD",
        "colab_type": "code",
        "colab": {
          "base_uri": "https://localhost:8080/",
          "height": 34
        },
        "outputId": "21a2b238-6ba6-4f19-fbc3-d8885091ff5d"
      },
      "source": [
        "v=torch.tensor([0.1,1.0,0.0001], dtype=torch.float)\n",
        "y.backward(v)\n",
        "\n",
        "print(x.grad)"
      ],
      "execution_count": 36,
      "outputs": [
        {
          "output_type": "stream",
          "text": [
            "tensor([1.0240e+02, 1.0240e+03, 1.0240e-01])\n"
          ],
          "name": "stdout"
        }
      ]
    },
    {
      "cell_type": "code",
      "metadata": {
        "id": "Yc4CkVdXTXO9",
        "colab_type": "code",
        "colab": {
          "base_uri": "https://localhost:8080/",
          "height": 69
        },
        "outputId": "2cc23765-93ee-459a-a8ad-881549ca8f46"
      },
      "source": [
        "print(x.requires_grad)\n",
        "print((x*x).requires_grad)\n",
        "\n",
        "with torch.no_grad():\n",
        "    print((x**2).requires_grad)"
      ],
      "execution_count": 38,
      "outputs": [
        {
          "output_type": "stream",
          "text": [
            "True\n",
            "True\n",
            "False\n"
          ],
          "name": "stdout"
        }
      ]
    },
    {
      "cell_type": "code",
      "metadata": {
        "id": "4nQ6SNMsToGV",
        "colab_type": "code",
        "colab": {
          "base_uri": "https://localhost:8080/",
          "height": 69
        },
        "outputId": "c7a3b83f-fd97-47af-b3df-99eb9620c16c"
      },
      "source": [
        "print(x.requires_grad)\n",
        "y=x.detach()\n",
        "print(y.requires_grad)\n",
        "print(x.eq(y).all())"
      ],
      "execution_count": 39,
      "outputs": [
        {
          "output_type": "stream",
          "text": [
            "True\n",
            "False\n",
            "tensor(True)\n"
          ],
          "name": "stdout"
        }
      ]
    },
    {
      "cell_type": "markdown",
      "metadata": {
        "id": "1AKu3qcGR1r5",
        "colab_type": "text"
      },
      "source": [
        ""
      ]
    }
  ]
}